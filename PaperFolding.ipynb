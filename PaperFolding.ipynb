{
 "cells": [
  {
   "cell_type": "code",
   "execution_count": 8,
   "id": "10c3a346",
   "metadata": {},
   "outputs": [
    {
     "name": "stdout",
     "output_type": "stream",
     "text": [
      "Thickness: 703687441.77664 meters\n"
     ]
    }
   ],
   "source": [
    "THICKNESS = 0.00008\n",
    "\n",
    "\n",
    "folded_thickness = THICKNESS * (2**43)\n",
    "\n",
    "\n",
    "print(\"Thickness: {} meters\".format(folded_thickness))"
   ]
  },
  {
   "cell_type": "code",
   "execution_count": 9,
   "id": "0a115712",
   "metadata": {},
   "outputs": [
    {
     "name": "stdout",
     "output_type": "stream",
     "text": [
      "Thickness:  703687.44 kilometers\n"
     ]
    }
   ],
   "source": [
    "# Convert meters to kilometers and display with two decimal places\n",
    "\n",
    "print(\"Thickness: {: .2f} kilometers\".format(folded_thickness / 1000))"
   ]
  },
  {
   "cell_type": "code",
   "execution_count": 10,
   "id": "9a03b54e",
   "metadata": {},
   "outputs": [],
   "source": [
    "def paperFoldLoop(numOfFolds):\n",
    "    THICKNESS = 8e-5\n",
    "    operand = 1\n",
    "    for x in range(numOfFolds):\n",
    "        operand *= 2\n",
    "    folded_thickness = THICKNESS * operand\n",
    "    print(f\"Thickness: {round(folded_thickness/1000, 2)} Km\")"
   ]
  },
  {
   "cell_type": "markdown",
   "id": "99c3c950",
   "metadata": {},
   "source": [
    "Thickness: 703687.44 Km"
   ]
  },
  {
   "cell_type": "code",
   "execution_count": 11,
   "id": "e42fe01a",
   "metadata": {},
   "outputs": [
    {
     "name": "stdout",
     "output_type": "stream",
     "text": [
      "Thickness: 703687.44 Km\n",
      "It took 0.0 seconds for the loop implementation\n",
      "Thickness: 703687.44 km\n",
      "It took 0.0 seconds for the exponential implementation\n"
     ]
    }
   ],
   "source": [
    "start = time.time()\n",
    "paperFoldLoop(43)\n",
    "stopTime = time.time() - start\n",
    "\n",
    "print(f\"It took {stopTime} seconds for the loop implementation\")\n",
    "\n",
    "start = time.time()\n",
    "paperFold(43)\n",
    "stopTime = time.time() - start\n",
    "\n",
    "print(f\"It took {stopTime} seconds for the exponential implementation\")"
   ]
  },
  {
   "cell_type": "code",
   "execution_count": 12,
   "id": "c0b26f75",
   "metadata": {},
   "outputs": [
    {
     "name": "stdout",
     "output_type": "stream",
     "text": [
      "Thickness: 703687.44 km\n"
     ]
    }
   ],
   "source": [
    "#%%timeit\n",
    "#remove comment to run\n",
    "paperFold(43) "
   ]
  },
  {
   "cell_type": "code",
   "execution_count": null,
   "id": "040846fe",
   "metadata": {},
   "outputs": [],
   "source": [
    "def paperFoldMod(numOfFolds):\n",
    "    THICKNESS = 0.00008\n",
    "    folded_thickness = []\n",
    "\n",
    "    for x in range(numOfFolds):\n",
    "        folded_thickness.append(THICKNESS*(2**x))\n",
    "    return folded_thickness\n",
    "\n",
    "\n",
    "plt.title(\"thickness of folded paper\")\n",
    "plt.xlabel(\"number of folds\")\n",
    "plt.ylabel(\"thickness[m]\")\n",
    "plt.tick_params(labelsize=20) # Make settings related to axis values\n",
    "plt.plot(paperFoldMod(43))\n",
    "plt.show()"
   ]
  }
 ],
 "metadata": {
  "kernelspec": {
   "display_name": "Python 3 (ipykernel)",
   "language": "python",
   "name": "python3"
  },
  "language_info": {
   "codemirror_mode": {
    "name": "ipython",
    "version": 3
   },
   "file_extension": ".py",
   "mimetype": "text/x-python",
   "name": "python",
   "nbconvert_exporter": "python",
   "pygments_lexer": "ipython3",
   "version": "3.11.5"
  }
 },
 "nbformat": 4,
 "nbformat_minor": 5
}
